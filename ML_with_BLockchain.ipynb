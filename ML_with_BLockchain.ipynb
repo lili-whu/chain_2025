{
 "nbformat": 4,
 "nbformat_minor": 0,
 "metadata": {
  "colab": {
   "name": "ML with BLockchain.ipynb",
   "version": "0.3.2",
   "provenance": [],
   "toc_visible": true
  },
  "kernelspec": {
   "display_name": "Python 3",
   "language": "python",
   "name": "python3"
  }
 },
 "cells": [
  {
   "metadata": {
    "id": "ayecVtNpGdtB",
    "colab_type": "text"
   },
   "cell_type": "markdown",
   "source": [
    "# Trail Experiment to do  Machine Learning on Blockchain(BlockFL)\n"
   ]
  },
  {
   "metadata": {
    "id": "X6o8nr8NGdtE",
    "colab_type": "text"
   },
   "cell_type": "markdown",
   "source": [
    "#### Imports"
   ]
  },
  {
   "metadata": {
    "id": "f2p5UZWTGdtG",
    "colab_type": "code",
    "colab": {}
   },
   "cell_type": "code",
   "source": [
    "import pandas as pd\n",
    "import numpy as np\n",
    "import json\n",
    "from sklearn import preprocessing\n",
    "from sklearn.metrics import confusion_matrix\n",
    "from sklearn.linear_model import LogisticRegression\n",
    "from sklearn.model_selection import train_test_split\n",
    "from flask import Flask, Response, request, jsonify\n",
    "from web3 import Web3"
   ],
   "execution_count": 0,
   "outputs": []
  },
  {
   "metadata": {
    "id": "Sl3bveQnGdtN",
    "colab_type": "text"
   },
   "cell_type": "markdown",
   "source": [
    "# How to share configuration\n",
    "\n",
    "Decide on the configuration that should be used by owner ,user, as well as splitting the data to be used by each."
   ]
  },
  {
   "metadata": {
    "id": "lJhLWF25GdtO",
    "colab_type": "text"
   },
   "cell_type": "markdown",
   "source": [
    "#### Data"
   ]
  },
  {
   "metadata": {
    "id": "e36lQJ3AGdtQ",
    "colab_type": "code",
    "colab": {
     "base_uri": "https://localhost:8080/",
     "height": 204
    },
    "outputId": "a5d7a2e0-912d-47e8-d8c6-6a3cc2cef176"
   },
   "cell_type": "code",
   "source": [
    "input = pd.read_csv('Iris.csv')\n",
    "input.head()"
   ],
   "execution_count": 2,
   "outputs": []
  },
  {
   "metadata": {
    "id": "038qNfjVGdtW",
    "colab_type": "code",
    "colab": {}
   },
   "cell_type": "code",
   "source": [
    "# Splitting between training and testing\n",
    "X_train, X_test, y_train, y_test = train_test_split(input.loc[:,input.columns != 'Species'], input['Species'], test_size=0.2)"
   ],
   "execution_count": 0,
   "outputs": []
  },
  {
   "metadata": {
    "id": "FWhWO_ftGdtZ",
    "colab_type": "text"
   },
   "cell_type": "markdown",
   "source": [
    "#### Setting up configurations to access smart contract"
   ]
  },
  {
   "metadata": {
    "id": "7G0Ouvj7Gdta",
    "colab_type": "code",
    "colab": {}
   },
   "cell_type": "code",
   "source": [
    "w3 = Web3(Web3.HTTPProvider(\"http://127.0.0.1:8545\"))\n",
    "        \n",
    "contract_abi = '[{\"constant\": false,\"inputs\": [{\"name\": \"_encoded_parameters\",\"type\": \"string\"}],\"name\": \"setModelParameters\",\"outputs\": [],\"payable\": false,\"stateMutability\": \"nonpayable\",\"type\": \"function\"},{\"inputs\": [],\"payable\": false,\"stateMutability\": \"nonpayable\",\"type\": \"constructor\"},{\"constant\": true,\"inputs\": [],\"name\": \"getModelParameters\",\"outputs\": [{\"name\": \"_encoded_parameters\",\"type\": \"string\"}],\"payable\": false,\"stateMutability\": \"view\",\"type\": \"function\"}]'\n",
    "contract_address = Web3.toChecksumAddress('0x748b9e15ac55f06bdd4b605fa6d1be5d1e7c2ed7')\n",
    "\n",
    "ml_contract = w3.eth.contract(address=contract_address, abi=contract_abi)"
   ],
   "execution_count": 0,
   "outputs": []
  },
  {
   "metadata": {
    "id": "bnBVRK8VGdtd",
    "colab_type": "text"
   },
   "cell_type": "markdown",
   "source": [
    "# Section 1: Miner\n",
    "\n",
    "This is the part that will be used by the miner. Here, the model is trained on private data, and the model parameters are uploaded to the smart contract. We should ensure that the address of the user uploading this data is the same as the owner of the smart contract."
   ]
  },
  {
   "metadata": {
    "id": "7-NfNjdTGdte",
    "colab_type": "text"
   },
   "cell_type": "markdown",
   "source": [
    "### Training"
   ]
  },
  {
   "metadata": {
    "id": "-WXJdeP2Gdtf",
    "colab_type": "code",
    "colab": {
     "base_uri": "https://localhost:8080/",
     "height": 156
    },
    "outputId": "0c3c5b07-94c0-486d-9f23-5f2da76a1d21"
   },
   "cell_type": "code",
   "source": [
    "cls = LogisticRegression()\n",
    "f = cls.fit(X_train,y_train)\n",
    "cls.coef_"
   ],
   "execution_count": 6,
   "outputs": []
  },
  {
   "metadata": {
    "id": "mbp0k_jpGdti",
    "colab_type": "text"
   },
   "cell_type": "markdown",
   "source": [
    "### Encode model parameters to json"
   ]
  },
  {
   "metadata": {
    "id": "ijqMJC4hGdtl",
    "colab_type": "code",
    "colab": {
     "base_uri": "https://localhost:8080/",
     "height": 54
    },
    "outputId": "fdfb0524-4a6b-4a00-bc4d-86aefc7584ca"
   },
   "cell_type": "code",
   "source": [
    "encoded = json.dumps((cls.coef_.tolist(), cls.intercept_.tolist(), cls.classes_.tolist()))\n",
    "encoded"
   ],
   "execution_count": 7,
   "outputs": []
  },
  {
   "metadata": {
    "id": "RfkDrl-DGdtp",
    "colab_type": "text"
   },
   "cell_type": "markdown",
   "source": [
    "### Upload to Smart Contract"
   ]
  },
  {
   "metadata": {
    "id": "jS-bYe4PGdtr",
    "colab_type": "code",
    "colab": {},
    "outputId": "a744e1f7-f78e-425d-bbf0-0dee81a9d633"
   },
   "cell_type": "code",
   "source": [
    "w3.eth.defaultAccount = w3.eth.accounts[0]\n",
    "    \n",
    "tx_hash = ml_contract.functions.setModelParameters(\n",
    "    encoded\n",
    ")\n",
    "tx_hash = tx_hash.transact()\n",
    "\n",
    "# Wait for transaction to be mined...\n",
    "w3.eth.waitForTransactionReceipt(tx_hash)"
   ],
   "execution_count": 0,
   "outputs": []
  },
  {
   "metadata": {
    "id": "f5wl-Vf7Gdtw",
    "colab_type": "text"
   },
   "cell_type": "markdown",
   "source": [
    "# Module 2: User\n",
    "\n",
    "Now we will check how the user can retrieve the model parameters from the smart contract, and create a logistic regression model based on them. "
   ]
  },
  {
   "metadata": {
    "id": "Un4lg51UGdtx",
    "colab_type": "text"
   },
   "cell_type": "markdown",
   "source": [
    "### Retrieving data from smart contract and decoding"
   ]
  },
  {
   "metadata": {
    "id": "EIfb3Lt0Gdty",
    "colab_type": "code",
    "colab": {},
    "outputId": "8f9ed87c-ac14-49cf-d508-e875bdcaf401"
   },
   "cell_type": "code",
   "source": [
    "w3.eth.defaultAccount = w3.eth.accounts[1]\n",
    "\n",
    "encoded_parameters = ml_contract.functions.getModelParameters().call()\n",
    "decoded_parameters = json.loads(encoded_parameters)\n",
    "decoded_parameters"
   ],
   "execution_count": 0,
   "outputs": []
  },
  {
   "metadata": {
    "id": "4GtkGnXuGdt2",
    "colab_type": "text"
   },
   "cell_type": "markdown",
   "source": [
    "### Creating model based on parameters retrieved"
   ]
  },
  {
   "metadata": {
    "id": "982gFly1Gdt3",
    "colab_type": "code",
    "colab": {}
   },
   "cell_type": "code",
   "source": [
    "cls = LogisticRegression()\n",
    "cls.coef_ = np.array(decoded_parameters[0])\n",
    "cls.intercept_ = np.array(decoded_parameters[1])\n",
    "cls.classes_ = np.array(decoded_parameters[2])"
   ],
   "execution_count": 0,
   "outputs": []
  },
  {
   "metadata": {
    "id": "mgr1RPhLGdt6",
    "colab_type": "text"
   },
   "cell_type": "markdown",
   "source": [
    "### Performing Prediction"
   ]
  },
  {
   "metadata": {
    "id": "i8nMD350Gdt7",
    "colab_type": "code",
    "colab": {},
    "outputId": "f04adb32-389d-4114-a95b-7d9061bee9b9"
   },
   "cell_type": "code",
   "source": [
    "predictions = cls.predict(X_test);\n",
    "result = pd.DataFrame(np.vstack((predictions, y_test)).T,columns=['Predicted Outcomes','Actual Outcomes'])\n",
    "result.head()"
   ],
   "execution_count": 0,
   "outputs": []
  },
  {
   "metadata": {
    "id": "ZkEZ1fHZGdt_",
    "colab_type": "text"
   },
   "cell_type": "markdown",
   "source": [
    "### Showing resulting metrics"
   ]
  },
  {
   "metadata": {
    "id": "Dt76RgrqGduA",
    "colab_type": "code",
    "colab": {},
    "outputId": "93261a41-54aa-4aae-a267-44156d2c0405"
   },
   "cell_type": "code",
   "source": [
    "accuracy = np.sum(predictions == y_test) / y_test.shape[0] * 100\n",
    "conf_matrix = confusion_matrix(predictions, y_test)\n",
    "precision = conf_matrix[0,0] / (conf_matrix[0,0] + conf_matrix[0,1]) * 100\n",
    "\n",
    "print(conf_matrix)\n",
    "print(\"Accuracy: {0:.2f}%\".format(accuracy))\n",
    "print(\"Precision: {0:.2f}%\".format(precision))"
   ],
   "execution_count": 0,
   "outputs": []
  },
  {
   "metadata": {
    "id": "8_Al2AiYGduF",
    "colab_type": "code",
    "colab": {}
   },
   "cell_type": "code",
   "source": [
    ""
   ],
   "execution_count": 0,
   "outputs": []
  }
 ]
}
